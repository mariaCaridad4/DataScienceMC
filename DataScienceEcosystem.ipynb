{
 "cells": [
  {
   "cell_type": "markdown",
   "id": "7876cac4-8db7-4108-9d1b-8191d7cfe656",
   "metadata": {},
   "source": [
    "# Data Science Tools and Ecosystem"
   ]
  },
  {
   "cell_type": "markdown",
   "id": "55c8cccb-38ee-42ad-a0ea-9f7fc82c7c67",
   "metadata": {},
   "source": [
    "In this notebook, Data Science Tools and Ecosystem are summarized."
   ]
  },
  {
   "cell_type": "markdown",
   "id": "f9fb4c02-31b6-445e-84e1-cb1fefcb161a",
   "metadata": {},
   "source": [
    "**Objectives:**\n",
    "* List the most popular programming languages ​​used in Data Science.\n",
    "* Liste the most common libraries used in Data Science\n",
    "* Listme open source tools that are used in Data Science through a Table.\r\n",
    "* Perform basic arimetic expressions."
   ]
  },
  {
   "cell_type": "markdown",
   "id": "54e8af01-1e20-4924-8a8f-e2e47d0d7d3e",
   "metadata": {},
   "source": [
    "Some of the popular languages that Data Scientists use are:\n",
    "1. Python\n",
    "2. R\n",
    "3. Julia\n",
    "4. Java\n",
    "5. Go\n",
    "6. Swift"
   ]
  },
  {
   "cell_type": "markdown",
   "id": "4fe0b2e7-5026-4540-ae8a-8fd7f8bb2997",
   "metadata": {},
   "source": [
    "Some of the commonly used libraries used by Data Scientists include:\n",
    "1. Pandas\n",
    "2. Plotly\n",
    "3. NumPy\n",
    "4. SciPy\n",
    "5. Matplotlib\n",
    "6. Seaborn\n",
    "7. Scikit-learn\n",
    "8. Statsmodels\n",
    "9. Apache Superset"
   ]
  },
  {
   "cell_type": "markdown",
   "id": "f5f54e7f-0749-4a42-99fc-69344098efba",
   "metadata": {},
   "source": [
    "| Data Science Tools | \r\n",
    "|:---------|\r\n",
    "Jupyter Notebook 1    |\r\n",
    "RStudiow 2   |\r",
    "Apache Sparkow 3   |"
   ]
  },
  {
   "cell_type": "markdown",
   "id": "ce6c5590-3cdc-4181-9a8c-8635b0e7eba5",
   "metadata": {},
   "source": [
    "### Below are a few examples of evaluating arithmetic expressions in Python"
   ]
  },
  {
   "cell_type": "code",
   "execution_count": 21,
   "id": "ea79aad6-747b-47be-8444-84ccf92c9623",
   "metadata": {},
   "outputs": [
    {
     "data": {
      "text/plain": [
       "17"
      ]
     },
     "execution_count": 21,
     "metadata": {},
     "output_type": "execute_result"
    }
   ],
   "source": [
    "#This a simple arithmetic expression to mutiply then add integers\n",
    "(3*4)+5"
   ]
  },
  {
   "cell_type": "code",
   "execution_count": 23,
   "id": "50d0416a-750d-453f-88fc-2ff7b84fd8a3",
   "metadata": {},
   "outputs": [
    {
     "data": {
      "text/plain": [
       "3.3333333333333335"
      ]
     },
     "execution_count": 23,
     "metadata": {},
     "output_type": "execute_result"
    }
   ],
   "source": [
    "#This will convert 200 minutes to hours by diving by 60\n",
    "(200/60)"
   ]
  },
  {
   "cell_type": "markdown",
   "id": "5eedaa7e-6d70-4982-9ca0-8082e9e5a2b5",
   "metadata": {},
   "source": [
    "## Author \n",
    "María Caridad Cáceres Salamea."
   ]
  },
  {
   "cell_type": "code",
   "execution_count": null,
   "id": "1ae90e04-455c-49f8-a46d-7fc25a02d423",
   "metadata": {},
   "outputs": [],
   "source": []
  }
 ],
 "metadata": {
  "kernelspec": {
   "display_name": "Python 3 (ipykernel)",
   "language": "python",
   "name": "python3"
  },
  "language_info": {
   "codemirror_mode": {
    "name": "ipython",
    "version": 3
   },
   "file_extension": ".py",
   "mimetype": "text/x-python",
   "name": "python",
   "nbconvert_exporter": "python",
   "pygments_lexer": "ipython3",
   "version": "3.12.4"
  }
 },
 "nbformat": 4,
 "nbformat_minor": 5
}
